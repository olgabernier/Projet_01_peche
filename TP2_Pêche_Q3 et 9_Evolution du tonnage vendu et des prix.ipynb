{
 "cells": [
  {
   "cell_type": "code",
   "execution_count": 8,
   "metadata": {},
   "outputs": [
    {
     "data": {
      "text/plain": [
       "array([[   1996,      11,  165890,  319104,       0],\n",
       "       [   1996,      12,  268978,  527364,       0],\n",
       "       [   1997,       1,  173600,  297604,       0],\n",
       "       [   1997,       2,  333317,  584564,       0],\n",
       "       [   1997,       3,  303077,  524834,       0],\n",
       "       [   1997,       4,   58941,  108066,       0],\n",
       "       [   1997,      10,    2177,    3923,       0],\n",
       "       [   1997,      11,  268786,  478587,       0],\n",
       "       [   1997,      12,  292502,  540332,       0],\n",
       "       [   1998,       1,  127659,  228984,       0],\n",
       "       [   1998,       2,  266009,  471490,       0],\n",
       "       [   1998,       3,  279767,  533178,       0],\n",
       "       [   1998,       4,  149402,  306845,       0],\n",
       "       [   1998,       5,     312,     718,       0],\n",
       "       [   1998,      10,    5081,   16690,       0],\n",
       "       [   1998,      11,  124089,  255247,       0],\n",
       "       [   1998,      12,  238237,  513974,       0],\n",
       "       [   1999,       1,  148137,  291130,       0],\n",
       "       [   1999,       2,  259175,  494670,       0],\n",
       "       [   1999,       3,  273849,  543747,       0],\n",
       "       [   1999,       4,   16756,   48266,       0],\n",
       "       [   1999,       5,    3262,    8470,       0],\n",
       "       [   1999,      10,  306948,  565910,       0],\n",
       "       [   1999,      11,  198160,  447965,       0],\n",
       "       [   1999,      12,  207330,  482892,       0],\n",
       "       [   2000,       1,  214811,  427362,       0],\n",
       "       [   2000,       2,  258492,  526477,       0],\n",
       "       [   2000,       3,  274380,  554450,       0],\n",
       "       [   2000,       4,   77971,  198648,       0],\n",
       "       [   2000,       5,   14652,   41659,       0],\n",
       "       [   2000,      10,   42750,  108271,       0],\n",
       "       [   2000,      11,  200575,  494509,       0],\n",
       "       [   2000,      12,  269234,  734808,       0],\n",
       "       [   2001,       1,  206296,  432551,       0],\n",
       "       [   2001,       2,  286031,  609099,       0],\n",
       "       [   2001,       3,  409317,  902700,       0],\n",
       "       [   2001,       4,  236230,  574030,       0],\n",
       "       [   2001,       5,    6046,   18618,       0],\n",
       "       [   2001,      10,  145177,  318246,       0],\n",
       "       [   2001,      11,  398925,  887216,       0],\n",
       "       [   2001,      12,  377427,  886802,       0],\n",
       "       [   2002,       1,  286499,  592850,       0],\n",
       "       [   2002,       2,  475919,  998755,       0],\n",
       "       [   2002,       3,  512335, 1008242,       0],\n",
       "       [   2002,       4,  156335,  314197,  152932],\n",
       "       [   2002,       5,   10221,   24364,       0],\n",
       "       [   2002,      10,  117394,  250345,       0],\n",
       "       [   2002,      11,  448540,  885347,   10306],\n",
       "       [   2002,      12,  496063,  987484,   41108],\n",
       "       [   2003,       1,  245159,  492114,       0],\n",
       "       [   2003,       2,  453492,  880848,       0],\n",
       "       [   2003,       3,  571200, 1108772,   80036],\n",
       "       [   2003,       4,  461496,  901386,       0],\n",
       "       [   2003,       5,   68922,  136043,       0],\n",
       "       [   2003,      10,  134836,  296802,    6708],\n",
       "       [   2003,      11,  389429,  941721,   11559],\n",
       "       [   2003,      12,  387219,  904211,       0],\n",
       "       [   2004,       1,  127082,  258845,  139487],\n",
       "       [   2004,       2,  210716,  401132,  246940],\n",
       "       [   2004,       3,  354106,  684994,  287420],\n",
       "       [   2004,       4,  206637,  395681,  286048],\n",
       "       [   2004,       5,    6087,   14913,       0],\n",
       "       [   2004,      10,  378827,  749465,       0],\n",
       "       [   2004,      11,  588528, 1183963,       0],\n",
       "       [   2004,      12,  523886, 1007541,       0],\n",
       "       [   2005,       1,   50257,   95238,   47337],\n",
       "       [   2005,       2,  150724,  279201,  173108],\n",
       "       [   2005,       3,  558894, 1028030,   97436],\n",
       "       [   2005,       4,  288465,  533564,   99282],\n",
       "       [   2005,       5,   62965,  119838,   48216],\n",
       "       [   2005,      10,  471892,  881732,   72621],\n",
       "       [   2005,      11,  468196,  954717,       0],\n",
       "       [   2005,      12,  482629,  917057,       0],\n",
       "       [   2006,       1,  179442,  320108,   13321],\n",
       "       [   2006,       2,  148818,  264976,  291016],\n",
       "       [   2006,       3,  281850,  501829,  348659],\n",
       "       [   2006,       4,  386996,  696902,  114258],\n",
       "       [   2006,       5,   88521,  157567,       0],\n",
       "       [   2006,      10,  557456, 1025004,       0],\n",
       "       [   2006,      11,  573020, 1205850,       0],\n",
       "       [   2006,      12,  426613,  963181,       0],\n",
       "       [   2007,       1,  226896,  416850,       0],\n",
       "       [   2007,       2,  406452,  741037,       0],\n",
       "       [   2007,       3,  594605, 1082947,       0],\n",
       "       [   2007,       4,  450005,  819699,       0],\n",
       "       [   2007,       5,  129978,  233990,       0],\n",
       "       [   2007,      10,  643898, 1184109,       0],\n",
       "       [   2007,      11,  548337, 1098719,       0],\n",
       "       [   2007,      12,  470673,  959767,       0],\n",
       "       [   2008,       1,  190676,  355029,       0],\n",
       "       [   2008,       2,  525602,  977162,       0],\n",
       "       [   2008,       3,  418251,  795996,       0],\n",
       "       [   2008,       4,  429922,  797530,       0],\n",
       "       [   2008,       5,   10486,   19527,       0],\n",
       "       [   2008,      10,  656016, 1217582,       0],\n",
       "       [   2008,      11,  443568,  886585,       0],\n",
       "       [   2008,      12,  514349, 1054427,       0],\n",
       "       [   2009,       1,  262609,  526316,       0],\n",
       "       [   2009,       2,  433223,  868981,       0],\n",
       "       [   2009,       3,  381603,  771073,       0],\n",
       "       [   2009,       4,  331758,  664955,       0],\n",
       "       [   2009,       5,   45542,   93718,       0],\n",
       "       [   2009,      10,  556325, 1031379,       0],\n",
       "       [   2009,      11,  387990,  800415,       0],\n",
       "       [   2009,      12,  522521, 1058188,       0],\n",
       "       [   2010,       1,  120314,  241112,       0],\n",
       "       [   2010,       2,  426125,  854695,       0],\n",
       "       [   2010,       3,  396319,  796804,       0],\n",
       "       [   2010,       4,  396202,  793857,       0],\n",
       "       [   2010,       5,   84006,  168142,       0],\n",
       "       [   2010,      10,  264587,  533965,       0],\n",
       "       [   2010,      11,  456048,  925811,       0],\n",
       "       [   2010,      12,  349546,  725690,       0],\n",
       "       [   2011,       1,  303400,  606934,       0],\n",
       "       [   2011,       2,  424534,  849522,       0],\n",
       "       [   2011,       3,  509951, 1020838,       0],\n",
       "       [   2011,       4,  409103,  769368,       0],\n",
       "       [   2011,       5,   67903,  127708,       0],\n",
       "       [   2011,      10,  406042,  765700,       0],\n",
       "       [   2011,      11,  543112, 1188101,       0],\n",
       "       [   2011,      12,  533905, 1196074,       0],\n",
       "       [   2012,       1,  284811,  570035,       0],\n",
       "       [   2012,       2,  516274, 1060780,       0],\n",
       "       [   2012,       3,  458590,  944517,       0],\n",
       "       [   2012,       4,  156904,  336637,       0],\n",
       "       [   2012,       5,   49928,  100537,       0],\n",
       "       [   2012,      10,  719676, 1475609,       0],\n",
       "       [   2012,      11,  650743, 1372770,       0],\n",
       "       [   2012,      12,  453596,  951057,       0],\n",
       "       [   2013,       1,  245127,  490514,       0],\n",
       "       [   2013,       2,  436350,  874125,       0],\n",
       "       [   2013,       3,  599912, 1200246,       0],\n",
       "       [   2013,       4,  241947,  484506,       0],\n",
       "       [   2013,      10,  599475, 1232866,       0],\n",
       "       [   2013,      11,  519571, 1154287,       0],\n",
       "       [   2013,      12,  451069, 1140859,       0],\n",
       "       [   2014,       1,  157999,  317044,       0],\n",
       "       [   2014,       2,  506510, 1013566,       0],\n",
       "       [   2014,       3,  564987, 1131867,       0],\n",
       "       [   2014,       4,   71075,  143598,       0],\n",
       "       [   2014,       5,    2248,    4123,       0],\n",
       "       [   2014,      10,  568390, 1246716,       0],\n",
       "       [   2014,      11,  540143, 1317022,       0],\n",
       "       [   2014,      12,  658528, 1752730,       0],\n",
       "       [   2015,       1,  251342,  508409,       0],\n",
       "       [   2015,       2,  487107,  989305,       0],\n",
       "       [   2015,       3,  558892, 1192140,       0],\n",
       "       [   2015,       4,  217353,  470608,       0],\n",
       "       [   2015,       5,     594,    1479,       0],\n",
       "       [   2015,      10,  642773, 1421287,       0],\n",
       "       [   2015,      11,  781766, 1921442,       0],\n",
       "       [   2015,      12,  703400, 1816669,       0],\n",
       "       [   2016,       1,  240629,  484095,       0],\n",
       "       [   2016,       2,  555833, 1164817,       0],\n",
       "       [   2016,       3,  567539, 1176674,       0],\n",
       "       [   2016,       4,  212062,  425856,       0],\n",
       "       [   2016,      10,  636727, 1551683,       0],\n",
       "       [   2016,      11,  575889, 1530392,       0],\n",
       "       [   2016,      12,  710133, 1759821,       0],\n",
       "       [   2017,       1,  138711,  277592,       0],\n",
       "       [   2017,       2,  488734, 1036522,       0],\n",
       "       [   2017,       3,  607308, 1302400,       0],\n",
       "       [   2017,       4,   30736,   78134,       0],\n",
       "       [   2017,      10,  627514, 1547536,       0],\n",
       "       [   2017,      11,  577507, 1512016,       0],\n",
       "       [   2017,      12,  600933, 1562516,       0],\n",
       "       [   2018,       1,  295909,  600123,    1004],\n",
       "       [   2018,       2,  319894,  663778,    1332],\n",
       "       [   2018,       3,  625502, 1264771,     759],\n",
       "       [   2018,       4,  236457,  499546,       0],\n",
       "       [   2018,      10,  560278, 1283575,       0],\n",
       "       [   2018,      11,  475041, 1208593,       0],\n",
       "       [   2018,      12,  511578, 1263999,       0],\n",
       "       [   2019,       1,  310433,  634818,       0],\n",
       "       [   2019,       2,  515085, 1031230,     563],\n",
       "       [   2019,       3,  387655,  787995,    1064],\n",
       "       [   2019,       4,  319669,  639355,    1963],\n",
       "       [   2019,      10,  485543, 1091578,     810],\n",
       "       [   2019,      11,  582749, 1388269,     484],\n",
       "       [   2019,      12,  564819, 1452054,     422]])"
      ]
     },
     "execution_count": 8,
     "metadata": {},
     "output_type": "execute_result"
    }
   ],
   "source": [
    "import numpy as np\n",
    "\n",
    "a = np.loadtxt('peche_clean_sans_titre.csv',dtype = np.int32, delimiter = \",\")\n",
    "a"
   ]
  },
  {
   "cell_type": "code",
   "execution_count": 168,
   "metadata": {},
   "outputs": [],
   "source": [
    "def decoupe(t):\n",
    "    '''Retourne an array avec les arrays correspondant aux colonnes du tableau'''\n",
    "    lst = []\n",
    "    for i in range(t.shape[1]):\n",
    "        lst.append(t[:,i])\n",
    "    lst2 = np.array(lst)\n",
    "    return lst2\n",
    "        \n",
    "\n",
    "# Découper les colonnes:\n",
    "annee, mois, ventes, valeur, invendu = decoupe(a)\n",
    "\n",
    "# Définition des arrays:\n",
    "month = np.unique(mois)\n",
    "years = np.unique(annee)\n",
    "\n",
    "\n",
    "years = np.unique(annee)\n",
    "yearly_sales = np.array([ventes[annee ==x].sum() for x in years])\n",
    "yearly_value = np.array([valeur[annee ==x].sum() for x in years])\n",
    "yearly_prices = yearly_value/yearly_sales\n",
    "\n",
    "month = np.unique(mois)\n",
    "monthly_sales = np.array([ventes[mois ==x].sum() for x in month])\n",
    "monthly_value = np.array([valeur[mois ==x].sum() for x in month])\n",
    "monthly_prices = monthly_value/monthly_sales\n",
    "\n",
    "\n",
    "def yearly_sales_evolution_tons():\n",
    "    '''Retourne les ventes annuelles,tonnes et son evolution,en % et en tonnes, par rapport à l'année précedente'''\n",
    "    years = np.unique(annee)\n",
    "    yearly_sales = np.array([ventes[annee ==x].sum()/1000 for x in years])\n",
    "    yearly_sales_evolution_tons = [(yearly_sales[x] - yearly_sales[x-1]) if x>0 else 0 for x in range(len(years))]\n",
    "    yearly_sales_evolution = [((yearly_sales[x] - yearly_sales[x-1])/yearly_sales[x-1])*100 if x>0 else 0 for x in range(len(years)) ]\n",
    "    res = list(zip(years,yearly_sales,yearly_sales_evolution,yearly_sales_evolution_tons))\n",
    "    return res\n",
    "\n",
    "def yearly_sales_evolution_graph():\n",
    "    '''Retourne les ventes annuelles,tonnes et son evolution,kg par rapport à l'année précedente'''\n",
    "    import matplotlib.pyplot as plt\n",
    "    years = np.unique(annee)\n",
    "    yearly_sales = np.array([ventes[annee ==x].sum()/1000 for x in years])\n",
    "    plt.plot(years,yearly_sales)\n",
    "    plt.xlabel('Years')\n",
    "    plt.ylabel('Sales')\n",
    "    plt.title('Yearly sales, tons & yearly sales evolution, kg')\n",
    "    \n",
    "    yearly_sales_evolution_kg = [(yearly_sales[x] - yearly_sales[x-1]) if x>0 else 0 for x in range(len(years))]\n",
    "    plt.bar(years,yearly_sales_evolution_kg)\n",
    "    return\n",
    "\n",
    "\n",
    "def yearly_prices_evolution():\n",
    "    '''Retourne les prix de ventes annuels,€/kg et son evolution, en % par rapport à l'année précedente'''\n",
    "    years = np.unique(annee)\n",
    "    yearly_sales = np.array([ventes[annee ==x].sum() for x in years])\n",
    "    yearly_value = np.array([valeur[annee ==x].sum() for x in years])\n",
    "    yearly_prices = yearly_value/yearly_sales    \n",
    "    yearly_prices_evolution = [ ( (yearly_prices[x] - yearly_prices[x-1])/yearly_prices[x-1])*100 if x>0 else 0 for x in range(len(years)) ]\n",
    "    res = list(zip(years,yearly_prices,yearly_prices_evolution))\n",
    "    return res    \n",
    "\n",
    "def yearly_prices_graph():\n",
    "    '''Retourne les prix de ventes annuels,€/kg et son evolution, en % par rapport à l'année précedente'''\n",
    "    import matplotlib.pyplot as plt\n",
    "    years = np.unique(annee)\n",
    "    yearly_value = np.array([valeur[annee ==x].sum() for x in years])\n",
    "    yearly_sales = np.array([ventes[annee ==x].sum() for x in years])\n",
    "    yearly_prices = np.array(yearly_value/yearly_sales)\n",
    "    plt.plot(years,yearly_prices)\n",
    "    plt.xlabel('Year')\n",
    "    plt.ylabel('Price, €/kg')\n",
    "    plt.title('Yearly prices evolution, €/kg')\n",
    "    return\n",
    "\n",
    "    \n",
    "def monthly_prices():\n",
    "    '''Retourne les prix mensuels'''\n",
    "    month = np.unique(mois)\n",
    "    monthly_sales = np.array([ventes[mois ==x].sum() for x in month])\n",
    "    monthly_value = np.array([valeur[mois ==x].sum() for x in month])\n",
    "    monthly_prices = monthly_value/monthly_sales\n",
    "    resultat = list(zip(month,monthly_prices))\n",
    "    return resultat\n",
    "\n",
    "def monthly_prices_graph():\n",
    "    '''Retourne les prix mensuels'''\n",
    "    import matplotlib.pyplot as plt\n",
    "    month = np.unique(mois)\n",
    "    monthly_sales = np.array([ventes[mois ==x].sum() for x in month])\n",
    "    monthly_value = np.array([valeur[mois ==x].sum() for x in month])\n",
    "    monthly_prices = monthly_value/monthly_sales\n",
    "    plt.bar(month,monthly_prices)\n",
    "    plt.xlabel('Month')\n",
    "    plt.ylabel('Price, €/kg')\n",
    "    plt.title('Monthly prices, €/kg')\n",
    "    return\n",
    "\n",
    "\n",
    "def total_period_price_change():\n",
    "    '''Retourne l'évolution du prix annuel en % entre le début et la fin de la période'''\n",
    "    yearly_value = np.array([valeur[annee ==x].sum() for x in years])\n",
    "    yearly_sales = np.array([ventes[annee ==x].sum() for x in years])\n",
    "    yearly_prices = np.array(yearly_value/yearly_sales)\n",
    "    res = ((yearly_prices[-1]-yearly_prices[0])/yearly_prices[0])*100\n",
    "    return res\n",
    "\n"
   ]
  },
  {
   "cell_type": "code",
   "execution_count": 165,
   "metadata": {},
   "outputs": [
    {
     "data": {
      "text/plain": [
       "[(1996, 434.868, 0, 0),\n",
       " (1997, 1432.4, 229.3873083326435, 997.5320000000002),\n",
       " (1998, 1190.556, -16.883831332030162, -241.84400000000005),\n",
       " (1999, 1413.617, 18.7358679474128, 223.06099999999992),\n",
       " (2000, 1352.865, -4.297627999663272, -60.75199999999995),\n",
       " (2001, 2065.449, 52.672217848787575, 712.5840000000001),\n",
       " (2002, 2503.306, 21.19911941664984, 437.85699999999997),\n",
       " (2003, 2711.753, 8.326868549030767, 208.44700000000012),\n",
       " (2004, 2395.869, -11.64870104319973, -315.884),\n",
       " (2005, 2534.022, 5.7663002442954845, 138.1529999999998),\n",
       " (2006, 2642.716, 4.2893865956964845, 108.69399999999996),\n",
       " (2007, 3470.844, 31.33624649792108, 828.1280000000002),\n",
       " (2008, 3188.87, -8.124075873188197, -281.97400000000016),\n",
       " (2009, 2921.571, -8.382248257219642, -267.299),\n",
       " (2010, 2493.147, -14.664165272724846, -428.424),\n",
       " (2011, 3197.95, 28.269612662229697, 704.8029999999999),\n",
       " (2012, 3290.522, 2.89472943604497, 92.57200000000012),\n",
       " (2013, 3093.451, -5.989049761709538, -197.0709999999999),\n",
       " (2014, 3069.88, -0.7619645502708758, -23.570999999999913),\n",
       " (2015, 3643.227, 18.676528072758536, 573.3469999999998),\n",
       " (2016, 3498.812, -3.9639308777630373, -144.41499999999996),\n",
       " (2017, 3071.443, -12.214688871536959, -427.3689999999997),\n",
       " (2018, 3024.659, -1.523192844535943, -46.784000000000106),\n",
       " (2019, 3165.953, 4.671402627535859, 141.29399999999987)]"
      ]
     },
     "execution_count": 165,
     "metadata": {},
     "output_type": "execute_result"
    }
   ],
   "source": [
    "yearly_sales_evolution_tons()"
   ]
  },
  {
   "cell_type": "code",
   "execution_count": 160,
   "metadata": {},
   "outputs": [
    {
     "data": {
      "image/png": "[encoded data removed]",
      "text/plain": [
       "<Figure size 432x288 with 1 Axes>"
      ]
     },
     "metadata": {},
     "output_type": "display_data"
    }
   ],
   "source": [
    "yearly_sales_evolution_graph()"
   ]
  },
  {
   "cell_type": "code",
   "execution_count": 169,
   "metadata": {},
   "outputs": [
    {
     "data": {
      "text/plain": [
       "[(1996, 1.9464941085570795, 0),\n",
       " (1997, 1.7717886065344877, -8.975393311213237),\n",
       " (1998, 1.954654799942212, 10.320993866497401),\n",
       " (1999, 2.039484527987425, 4.339882829833749),\n",
       " (2000, 2.281220964397778, 11.852820312831673),\n",
       " (2001, 2.241286035142964, -1.7505945227605841),\n",
       " (2002, 2.02195976041283, -9.78573333751862),\n",
       " (2003, 2.0879102927147124, 3.2617133927738107),\n",
       " (2004, 1.9602632698198441, -6.113625826754316),\n",
       " (2005, 1.8979223542652748, -3.180231783881698),\n",
       " (2006, 1.9432345359849488, 2.3874623541812534),\n",
       " (2007, 1.883437573109019, -3.0771871211943607),\n",
       " (2008, 1.9141068779849915, 1.628368538137754),\n",
       " (2009, 1.9903760682180922, 3.9845836776570414),\n",
       " (2010, 2.021571932982692, 1.5673352017605637),\n",
       " (2011, 2.0401335230381963, 0.9181760862754804),\n",
       " (2012, 2.070170629462438, 1.4723108112801273),\n",
       " (2013, 2.126234745596423, 2.708188172321979),\n",
       " (2014, 2.256331192098714, 6.118630446225645),\n",
       " (2015, 2.2840572382670636, 1.2288110125606284),\n",
       " (2016, 2.3131674408342033, 1.2744953182182899),\n",
       " (2017, 2.3821754139666598, 2.9832675280769956),\n",
       " (2018, 2.243024750889274, -5.841327312067259),\n",
       " (2019, 2.2190155697194496, -1.070393055640857)]"
      ]
     },
     "execution_count": 169,
     "metadata": {},
     "output_type": "execute_result"
    }
   ],
   "source": [
    "yearly_prices_evolution()"
   ]
  },
  {
   "cell_type": "code",
   "execution_count": 148,
   "metadata": {},
   "outputs": [
    {
     "data": {
      "image/png": "[encoded data removed]",
      "text/plain": [
       "<Figure size 432x288 with 1 Axes>"
      ]
     },
     "metadata": {},
     "output_type": "display_data"
    }
   ],
   "source": [
    "yearly_prices_graph()"
   ]
  },
  {
   "cell_type": "code",
   "execution_count": 143,
   "metadata": {},
   "outputs": [
    {
     "data": {
      "text/plain": [
       "[(1, 1.977037669509031),\n",
       " (2, 1.985131268054085),\n",
       " (3, 1.988490440651946),\n",
       " (4, 1.9849145373629073),\n",
       " (5, 1.9509999647062253),\n",
       " (10, 2.077694222176331),\n",
       " (11, 2.2333856135944083),\n",
       " (12, 2.2840774648194198)]"
      ]
     },
     "execution_count": 143,
     "metadata": {},
     "output_type": "execute_result"
    }
   ],
   "source": [
    "monthly_prices()"
   ]
  },
  {
   "cell_type": "code",
   "execution_count": 157,
   "metadata": {},
   "outputs": [
    {
     "data": {
      "image/png": "[encoded data removed]",
      "text/plain": [
       "<Figure size 432x288 with 1 Axes>"
      ]
     },
     "metadata": {},
     "output_type": "display_data"
    }
   ],
   "source": [
    "monthly_prices_graph()"
   ]
  },
  {
   "cell_type": "code",
   "execution_count": 166,
   "metadata": {},
   "outputs": [
    {
     "data": {
      "text/plain": [
       "14.000631184257117"
      ]
     },
     "execution_count": 166,
     "metadata": {},
     "output_type": "execute_result"
    }
   ],
   "source": [
    "total_period_price_change()"
   ]
  },
  {
   "cell_type": "code",
   "execution_count": 137,
   "metadata": {},
   "outputs": [],
   "source": [
    "# 9.Le prix de vente au kg peut-il être mis en relation avec le tonnage pêché ?\n",
    "#tonnage pêché = vendu + invendu\n",
    "\n",
    "def volume_prices_corr():\n",
    "    tonnage = np.array(ventes + invendu)\n",
    "    prix = valeur/ventes\n",
    "    x = tonnage\n",
    "    y = prix\n",
    "    res = np.corrcoef(x, y)\n",
    "\n",
    "    import matplotlib\n",
    "    import matplotlib.pyplot as plt\n",
    "    plt.scatter(tonnage, prix)\n",
    "    plt.show()\n",
    "    return res\n"
   ]
  },
  {
   "cell_type": "code",
   "execution_count": 138,
   "metadata": {},
   "outputs": [
    {
     "data": {
      "image/png": "[encoded data removed]",
      "text/plain": [
       "<Figure size 432x288 with 1 Axes>"
      ]
     },
     "metadata": {},
     "output_type": "display_data"
    },
    {
     "data": {
      "text/plain": [
       "array([[ 1.        , -0.05963687],\n",
       "       [-0.05963687,  1.        ]])"
      ]
     },
     "execution_count": 138,
     "metadata": {},
     "output_type": "execute_result"
    }
   ],
   "source": [
    "volume_prices_corr()"
   ]
  },
  {
   "cell_type": "code",
   "execution_count": null,
   "metadata": {},
   "outputs": [],
   "source": []
  }
 ],
 "metadata": {
  "kernelspec": {
   "display_name": "Python 3",
   "language": "python",
   "name": "python3"
  },
  "language_info": {
   "codemirror_mode": {
    "name": "ipython",
    "version": 3
   },
   "file_extension": ".py",
   "mimetype": "text/x-python",
   "name": "python",
   "nbconvert_exporter": "python",
   "pygments_lexer": "ipython3",
   "version": "3.7.4"
  }
 },
 "nbformat": 4,
 "nbformat_minor": 2
}
