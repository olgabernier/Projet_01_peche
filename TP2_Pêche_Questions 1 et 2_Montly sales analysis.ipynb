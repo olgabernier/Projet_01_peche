{
 "cells": [
  {
   "cell_type": "code",
   "execution_count": 4,
   "metadata": {},
   "outputs": [
    {
     "name": "stdout",
     "output_type": "stream",
     "text": [
      "(181, 5)\n",
      "[[   1996      11  165890  319104       0]\n",
      " [   1996      12  268978  527364       0]\n",
      " [   1997       1  173600  297604       0]\n",
      " [   1997       2  333317  584564       0]\n",
      " [   1997       3  303077  524834       0]\n",
      " [   1997       4   58941  108066       0]\n",
      " [   1997      10    2177    3923       0]\n",
      " [   1997      11  268786  478587       0]\n",
      " [   1997      12  292502  540332       0]\n",
      " [   1998       1  127659  228984       0]\n",
      " [   1998       2  266009  471490       0]\n",
      " [   1998       3  279767  533178       0]\n",
      " [   1998       4  149402  306845       0]\n",
      " [   1998       5     312     718       0]\n",
      " [   1998      10    5081   16690       0]\n",
      " [   1998      11  124089  255247       0]\n",
      " [   1998      12  238237  513974       0]\n",
      " [   1999       1  148137  291130       0]\n",
      " [   1999       2  259175  494670       0]\n",
      " [   1999       3  273849  543747       0]\n",
      " [   1999       4   16756   48266       0]\n",
      " [   1999       5    3262    8470       0]\n",
      " [   1999      10  306948  565910       0]\n",
      " [   1999      11  198160  447965       0]\n",
      " [   1999      12  207330  482892       0]\n",
      " [   2000       1  214811  427362       0]\n",
      " [   2000       2  258492  526477       0]\n",
      " [   2000       3  274380  554450       0]\n",
      " [   2000       4   77971  198648       0]\n",
      " [   2000       5   14652   41659       0]\n",
      " [   2000      10   42750  108271       0]\n",
      " [   2000      11  200575  494509       0]\n",
      " [   2000      12  269234  734808       0]\n",
      " [   2001       1  206296  432551       0]\n",
      " [   2001       2  286031  609099       0]\n",
      " [   2001       3  409317  902700       0]\n",
      " [   2001       4  236230  574030       0]\n",
      " [   2001       5    6046   18618       0]\n",
      " [   2001      10  145177  318246       0]\n",
      " [   2001      11  398925  887216       0]\n",
      " [   2001      12  377427  886802       0]\n",
      " [   2002       1  286499  592850       0]\n",
      " [   2002       2  475919  998755       0]\n",
      " [   2002       3  512335 1008242       0]\n",
      " [   2002       4  156335  314197  152932]\n",
      " [   2002       5   10221   24364       0]\n",
      " [   2002      10  117394  250345       0]\n",
      " [   2002      11  448540  885347   10306]\n",
      " [   2002      12  496063  987484   41108]\n",
      " [   2003       1  245159  492114       0]\n",
      " [   2003       2  453492  880848       0]\n",
      " [   2003       3  571200 1108772   80036]\n",
      " [   2003       4  461496  901386       0]\n",
      " [   2003       5   68922  136043       0]\n",
      " [   2003      10  134836  296802    6708]\n",
      " [   2003      11  389429  941721   11559]\n",
      " [   2003      12  387219  904211       0]\n",
      " [   2004       1  127082  258845  139487]\n",
      " [   2004       2  210716  401132  246940]\n",
      " [   2004       3  354106  684994  287420]\n",
      " [   2004       4  206637  395681  286048]\n",
      " [   2004       5    6087   14913       0]\n",
      " [   2004       8       0       0       0]\n",
      " [   2004      10  378827  749465       0]\n",
      " [   2004      11  588528 1183963       0]\n",
      " [   2004      12  523886 1007541       0]\n",
      " [   2005       1   50257   95238   47337]\n",
      " [   2005       2  150724  279201  173108]\n",
      " [   2005       3  558894 1028030   97436]\n",
      " [   2005       4  288465  533564   99282]\n",
      " [   2005       5   62965  119838   48216]\n",
      " [   2005      10  471892  881732   72621]\n",
      " [   2005      11  468196  954717       0]\n",
      " [   2005      12  482629  917057       0]\n",
      " [   2006       1  179442  320108   13321]\n",
      " [   2006       2  148818  264976  291016]\n",
      " [   2006       3  281850  501829  348659]\n",
      " [   2006       4  386996  696902  114258]\n",
      " [   2006       5   88521  157567       0]\n",
      " [   2006      10  557456 1025004       0]\n",
      " [   2006      11  573020 1205850       0]\n",
      " [   2006      12  426613  963181       0]\n",
      " [   2007       1  226896  416850       0]\n",
      " [   2007       2  406452  741037       0]\n",
      " [   2007       3  594605 1082947       0]\n",
      " [   2007       4  450005  819699       0]\n",
      " [   2007       5  129978  233990       0]\n",
      " [   2007      10  643898 1184109       0]\n",
      " [   2007      11  548337 1098719       0]\n",
      " [   2007      12  470673  959767       0]\n",
      " [   2008       1  190676  355029       0]\n",
      " [   2008       2  525602  977162       0]\n",
      " [   2008       3  418251  795996       0]\n",
      " [   2008       4  429922  797530       0]\n",
      " [   2008       5   10486   19527       0]\n",
      " [   2008      10  656016 1217582       0]\n",
      " [   2008      11  443568  886585       0]\n",
      " [   2008      12  514349 1054427       0]\n",
      " [   2009       1  262609  526316       0]\n",
      " [   2009       2  433223  868981       0]\n",
      " [   2009       3  381603  771073       0]\n",
      " [   2009       4  331758  664955       0]\n",
      " [   2009       5   45542   93718       0]\n",
      " [   2009      10  556325 1031379       0]\n",
      " [   2009      11  387990  800415       0]\n",
      " [   2009      12  522521 1058188       0]\n",
      " [   2010       1  120314  241112       0]\n",
      " [   2010       2  426125  854695       0]\n",
      " [   2010       3  396319  796804       0]\n",
      " [   2010       4  396202  793857       0]\n",
      " [   2010       5   84006  168142       0]\n",
      " [   2010      10  264587  533965       0]\n",
      " [   2010      11  456048  925811       0]\n",
      " [   2010      12  349546  725690       0]\n",
      " [   2011       1  303400  606934       0]\n",
      " [   2011       2  424534  849522       0]\n",
      " [   2011       3  509951 1020838       0]\n",
      " [   2011       4  409103  769368       0]\n",
      " [   2011       5   67903  127708       0]\n",
      " [   2011      10  406042  765700       0]\n",
      " [   2011      11  543112 1188101       0]\n",
      " [   2011      12  533905 1196074       0]\n",
      " [   2012       1  284811  570035       0]\n",
      " [   2012       2  516274 1060780       0]\n",
      " [   2012       3  458590  944517       0]\n",
      " [   2012       4  156904  336637       0]\n",
      " [   2012       5   49928  100537       0]\n",
      " [   2012      10  719676 1475609       0]\n",
      " [   2012      11  650743 1372770       0]\n",
      " [   2012      12  453596  951057       0]\n",
      " [   2013       1  245127  490514       0]\n",
      " [   2013       2  436350  874125       0]\n",
      " [   2013       3  599912 1200246       0]\n",
      " [   2013       4  241947  484506       0]\n",
      " [   2013      10  599475 1232866       0]\n",
      " [   2013      11  519571 1154287       0]\n",
      " [   2013      12  451069 1140859       0]\n",
      " [   2014       1  157999  317044       0]\n",
      " [   2014       2  506510 1013566       0]\n",
      " [   2014       3  564987 1131867       0]\n",
      " [   2014       4   71075  143598       0]\n",
      " [   2014       5    2248    4123       0]\n",
      " [   2014      10  568390 1246716       0]\n",
      " [   2014      11  540143 1317022       0]\n",
      " [   2014      12  658528 1752730       0]\n",
      " [   2015       1  251342  508409       0]\n",
      " [   2015       2  487107  989305       0]\n",
      " [   2015       3  558892 1192140       0]\n",
      " [   2015       4  217353  470608       0]\n",
      " [   2015       5     594    1479       0]\n",
      " [   2015      10  642773 1421287       0]\n",
      " [   2015      11  781766 1921442       0]\n",
      " [   2015      12  703400 1816669       0]\n",
      " [   2016       1  240629  484095       0]\n",
      " [   2016       2  555833 1164817       0]\n",
      " [   2016       3  567539 1176674       0]\n",
      " [   2016       4  212062  425856       0]\n",
      " [   2016      10  636727 1551683       0]\n",
      " [   2016      11  575889 1530392       0]\n",
      " [   2016      12  710133 1759821       0]\n",
      " [   2017       1  138711  277592       0]\n",
      " [   2017       2  488734 1036522       0]\n",
      " [   2017       3  607308 1302400       0]\n",
      " [   2017       4   30736   78134       0]\n",
      " [   2017      10  627514 1547536       0]\n",
      " [   2017      11  577507 1512016       0]\n",
      " [   2017      12  600933 1562516       0]\n",
      " [   2018       1  295909  600123    1004]\n",
      " [   2018       2  319894  663778    1332]\n",
      " [   2018       3  625502 1264771     759]\n",
      " [   2018       4  236457  499546       0]\n",
      " [   2018      10  560278 1283575       0]\n",
      " [   2018      11  475041 1208593       0]\n",
      " [   2018      12  511578 1263999       0]\n",
      " [   2019       1  310433  634818       0]\n",
      " [   2019       2  515085 1031230     563]\n",
      " [   2019       3  387655  787995    1064]\n",
      " [   2019       4  319669  639355    1963]\n",
      " [   2019      10  485543 1091578     810]\n",
      " [   2019      11  582749 1388269     484]\n",
      " [   2019      12  564819 1452054     422]]\n"
     ]
    }
   ],
   "source": [
    "# Analyse des ventes MENSUELLES\n",
    "\n",
    "# 1. Quel poids de coquilles Saint-Jacques vendues chaque mois au cours de la période considérée?\n",
    "# 2.1. Quel est le poids moyen de coquilles Saint-Jacques vendues chaque mois ?\n",
    "# 2.2.Quel est la variance/écart-type du poids pour chque mois ?\n",
    "\n",
    "\n",
    "import numpy as np\n",
    "b = np.loadtxt('peche2_clean.csv',dtype = np.int32, delimiter = \",\",skiprows=1)\n",
    "print(b.shape)\n",
    "print(b)"
   ]
  },
  {
   "cell_type": "code",
   "execution_count": 27,
   "metadata": {},
   "outputs": [],
   "source": [
    "# Suppression de la ligne avec les ventes = 0 :\n",
    "mask = b[:,2]>0\n",
    "a = b[mask]\n",
    "#print(a)\n",
    "\n",
    "# Enregistrement de la nouvelle version:\n",
    "import csv\n",
    "with open('peche_clean_sans_titre.csv', 'w', newline='') as stream:\n",
    "    csv_writer = csv.writer(stream)\n",
    "    csv_writer.writerows(a)\n",
    "stream.close()\n",
    "\n",
    "\n",
    "\n",
    "def decoupe(t):\n",
    "    \n",
    "    '''Retourne an array avec les arrays correspondant aux colonnes du tableau'''\n",
    "    lst = []\n",
    "    for i in range(t.shape[1]):\n",
    "        lst.append(t[:,i])\n",
    "    lst2 = np.array(lst)\n",
    "    return lst2\n",
    "        \n",
    "    \n",
    "    \n",
    "# création d'un array pour chaque colonne:\n",
    "annee, mois, ventes, valeur, invendu = decoupe(a)\n",
    "\n",
    "# Création d'un array mois uniques pour calculer sur toute la période:\n",
    "month = np.unique(mois)\n",
    "\n",
    "#Calcul des valeurs de ventes mensuelles:\n",
    "monthly_sales = np.array([ventes[mois ==x].sum() for x in month])\n",
    "avg_monthly_sales = ((round(ventes[mois==x].mean(),2) for x in month))\n",
    "\n",
    "# 1. Quel poids de coquilles vendu chaque mois sur toute la période:\n",
    "\n",
    "\n",
    "def total_monthly_sales():\n",
    "    '''Retourne les ventes totales par mois au cours de la période considérée'''\n",
    "    month = np.unique(mois)\n",
    "    monthly_sales = [ventes[mois ==x].sum() for x in month]\n",
    "    res = list(zip(month,monthly_sales))\n",
    "    return res\n",
    "\n",
    "def total_monthly_sales_graph():\n",
    "    import matplotlib.pyplot as plt\n",
    "    month = np.unique(mois)\n",
    "    monthly_sales = [(ventes[mois ==x].sum())/1000 for x in month]\n",
    "    plt.bar(month,monthly_sales)\n",
    "    plt.xlabel('Month')\n",
    "    plt.ylabel('Sales, tons')\n",
    "    plt.title('Total sales per month, tons')\n",
    "    \n",
    "# 2.1. Quel est le poids moyen de coquilles Saint-Jacques vendues chaque mois ?\n",
    "def avg_monthly_sales():\n",
    "    '''Retourne les ventes moyennes par mois au cours de la période considérée'''\n",
    "    month = np.unique(mois)\n",
    "    avg_monthly_sales = ((round(ventes[mois==x].mean(),2) for x in month))\n",
    "    res = list(zip(month,avg_monthly_sales))\n",
    "    return res\n",
    "\n",
    "def avg_monthly_sales_graph():\n",
    "    import matplotlib.pyplot as plt\n",
    "    month = np.unique(mois)\n",
    "    avg_monthly_sales = [ventes[mois==x].mean() for x in month]\n",
    "    plt.bar(month,avg_monthly_sales)\n",
    "    plt.xlabel('Month')\n",
    "    plt.ylabel('Sales, tons')\n",
    "    plt.title('Average sales per month, kg')\n",
    "\n",
    "# 2.2. Quel est l'écart-type/variance du poids vendu chaque mois ?\n",
    "def stdev_monthly_sales():\n",
    "    month = np.unique(mois)\n",
    "    stdev_monthly = [ventes[mois==x].std() for x in month]\n",
    "    res = list(zip(month,stdev_monthly))\n",
    "    return res\n",
    "\n",
    "def variance_monthly_sales():\n",
    "    month = np.unique(mois)\n",
    "    variance_monthly = [ventes[mois==x].var() for x in month]\n",
    "    res = list(zip(month,variance_monthly))\n",
    "    return res\n",
    "\n",
    "def stdev_monthly_sales_graph():\n",
    "    import matplotlib.pyplot as plt\n",
    "    month = np.unique(mois)\n",
    "    stdev_monthly = [ventes[mois==x].std() for x in month]\n",
    "    plt.bar(month,stdev_monthly)\n",
    "    plt.xlabel('Month')\n",
    "    plt.ylabel('Sales standard deviation, kg')\n",
    "    plt.title('Sales standard deviation, kg')\n"
   ]
  },
  {
   "cell_type": "code",
   "execution_count": 28,
   "metadata": {},
   "outputs": [
    {
     "data": {
      "text/plain": [
       "[(1, 4787798),\n",
       " (2, 8884416),\n",
       " (3, 10489889),\n",
       " (4, 5542422),\n",
       " (5, 651673),\n",
       " (10, 9529782),\n",
       " (11, 10906602),\n",
       " (12, 11015168)]"
      ]
     },
     "execution_count": 28,
     "metadata": {},
     "output_type": "execute_result"
    }
   ],
   "source": [
    "total_monthly_sales()"
   ]
  },
  {
   "cell_type": "code",
   "execution_count": 29,
   "metadata": {},
   "outputs": [
    {
     "data": {
      "image/png": "[encoded data removed]",
      "text/plain": [
       "<Figure size 432x288 with 1 Axes>"
      ]
     },
     "metadata": {
      "needs_background": "light"
     },
     "output_type": "display_data"
    }
   ],
   "source": [
    "total_monthly_sales_graph()"
   ]
  },
  {
   "cell_type": "code",
   "execution_count": 12,
   "metadata": {},
   "outputs": [
    {
     "data": {
      "text/plain": [
       "[(1, 208165.13),\n",
       " (2, 386278.96),\n",
       " (3, 456082.13),\n",
       " (4, 240974.87),\n",
       " (5, 38333.71),\n",
       " (10, 414338.35),\n",
       " (11, 454441.75),\n",
       " (12, 458965.33)]"
      ]
     },
     "execution_count": 12,
     "metadata": {},
     "output_type": "execute_result"
    }
   ],
   "source": [
    "avg_monthly_sales()"
   ]
  },
  {
   "cell_type": "code",
   "execution_count": 17,
   "metadata": {},
   "outputs": [
    {
     "data": {
      "image/png": "[encoded data removed]",
      "text/plain": [
       "<Figure size 432x288 with 1 Axes>"
      ]
     },
     "metadata": {
      "needs_background": "light"
     },
     "output_type": "display_data"
    }
   ],
   "source": [
    "avg_monthly_sales_graph()"
   ]
  },
  {
   "cell_type": "code",
   "execution_count": 18,
   "metadata": {},
   "outputs": [
    {
     "data": {
      "text/plain": [
       "[(1, 68280.66142181386),\n",
       " (2, 122367.49363485537),\n",
       " (3, 120703.19992311158),\n",
       " (4, 136203.15618870803),\n",
       " (5, 38514.77994952787),\n",
       " (10, 231181.35801622685),\n",
       " (11, 160963.67291546718),\n",
       " (12, 137317.8025044054)]"
      ]
     },
     "execution_count": 18,
     "metadata": {},
     "output_type": "execute_result"
    }
   ],
   "source": [
    "stdev_monthly_sales()"
   ]
  },
  {
   "cell_type": "code",
   "execution_count": 19,
   "metadata": {},
   "outputs": [
    {
     "data": {
      "image/png": "[encoded data removed]",
      "text/plain": [
       "<Figure size 432x288 with 1 Axes>"
      ]
     },
     "metadata": {
      "needs_background": "light"
     },
     "output_type": "display_data"
    }
   ],
   "source": [
    "stdev_monthly_sales_graph()"
   ]
  },
  {
   "cell_type": "code",
   "execution_count": 22,
   "metadata": {},
   "outputs": [
    {
     "data": {
      "text/plain": [
       "[(1, 4662248724.200378),\n",
       " (2, 14973803498.476372),\n",
       " (3, 14569262471.678642),\n",
       " (4, 18551299755.7656),\n",
       " (5, 1483388274.5605536),\n",
       " (10, 53444820294.22686),\n",
       " (11, 25909303998.4375),\n",
       " (12, 18856178884.63889)]"
      ]
     },
     "execution_count": 22,
     "metadata": {},
     "output_type": "execute_result"
    }
   ],
   "source": [
    "variance_monthly_sales()"
   ]
  }
 ],
 "metadata": {
  "kernelspec": {
   "display_name": "Python 3",
   "language": "python",
   "name": "python3"
  },
  "language_info": {
   "codemirror_mode": {
    "name": "ipython",
    "version": 3
   },
   "file_extension": ".py",
   "mimetype": "text/x-python",
   "name": "python",
   "nbconvert_exporter": "python",
   "pygments_lexer": "ipython3",
   "version": "3.7.4"
  }
 },
 "nbformat": 4,
 "nbformat_minor": 2
}
